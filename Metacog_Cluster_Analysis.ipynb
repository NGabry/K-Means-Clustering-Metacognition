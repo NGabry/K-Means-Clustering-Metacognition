{
 "cells": [
  {
   "cell_type": "code",
   "execution_count": 11,
   "id": "be752b69",
   "metadata": {},
   "outputs": [],
   "source": [
    "import sys\n",
    "import pandas as pd\n",
    "import numpy as np\n",
    "import matplotlib.pyplot as plt\n",
    "import random as rd\n",
    "from sklearn.cluster import KMeans\n",
    "from sklearn.preprocessing import StandardScaler"
   ]
  },
  {
   "cell_type": "markdown",
   "id": "d9fb9320",
   "metadata": {},
   "source": [
    "## Importing the dataset from a csv to a pandas dataframe"
   ]
  },
  {
   "cell_type": "code",
   "execution_count": 12,
   "id": "87f0ef18",
   "metadata": {},
   "outputs": [
    {
     "data": {
      "text/html": [
       "<div>\n",
       "<style scoped>\n",
       "    .dataframe tbody tr th:only-of-type {\n",
       "        vertical-align: middle;\n",
       "    }\n",
       "\n",
       "    .dataframe tbody tr th {\n",
       "        vertical-align: top;\n",
       "    }\n",
       "\n",
       "    .dataframe thead th {\n",
       "        text-align: right;\n",
       "    }\n",
       "</style>\n",
       "<table border=\"1\" class=\"dataframe\">\n",
       "  <thead>\n",
       "    <tr style=\"text-align: right;\">\n",
       "      <th></th>\n",
       "      <th>MAS_S</th>\n",
       "      <th>MAS_O</th>\n",
       "      <th>MAS_D</th>\n",
       "      <th>MAS_M</th>\n",
       "      <th>PD</th>\n",
       "    </tr>\n",
       "  </thead>\n",
       "  <tbody>\n",
       "    <tr>\n",
       "      <th>0</th>\n",
       "      <td>5.5</td>\n",
       "      <td>5.0</td>\n",
       "      <td>1.5</td>\n",
       "      <td>5.5</td>\n",
       "      <td>26</td>\n",
       "    </tr>\n",
       "    <tr>\n",
       "      <th>1</th>\n",
       "      <td>8.0</td>\n",
       "      <td>5.0</td>\n",
       "      <td>2.0</td>\n",
       "      <td>7.5</td>\n",
       "      <td>12</td>\n",
       "    </tr>\n",
       "    <tr>\n",
       "      <th>2</th>\n",
       "      <td>7.5</td>\n",
       "      <td>4.5</td>\n",
       "      <td>2.0</td>\n",
       "      <td>4.5</td>\n",
       "      <td>16</td>\n",
       "    </tr>\n",
       "    <tr>\n",
       "      <th>3</th>\n",
       "      <td>6.5</td>\n",
       "      <td>5.5</td>\n",
       "      <td>2.5</td>\n",
       "      <td>6.0</td>\n",
       "      <td>5</td>\n",
       "    </tr>\n",
       "    <tr>\n",
       "      <th>4</th>\n",
       "      <td>5.5</td>\n",
       "      <td>5.0</td>\n",
       "      <td>2.5</td>\n",
       "      <td>6.0</td>\n",
       "      <td>8</td>\n",
       "    </tr>\n",
       "    <tr>\n",
       "      <th>...</th>\n",
       "      <td>...</td>\n",
       "      <td>...</td>\n",
       "      <td>...</td>\n",
       "      <td>...</td>\n",
       "      <td>...</td>\n",
       "    </tr>\n",
       "    <tr>\n",
       "      <th>99994</th>\n",
       "      <td>7.5</td>\n",
       "      <td>5.5</td>\n",
       "      <td>2.5</td>\n",
       "      <td>7.5</td>\n",
       "      <td>41</td>\n",
       "    </tr>\n",
       "    <tr>\n",
       "      <th>99995</th>\n",
       "      <td>8.0</td>\n",
       "      <td>6.0</td>\n",
       "      <td>3.0</td>\n",
       "      <td>8.0</td>\n",
       "      <td>46</td>\n",
       "    </tr>\n",
       "    <tr>\n",
       "      <th>99996</th>\n",
       "      <td>6.5</td>\n",
       "      <td>4.5</td>\n",
       "      <td>3.0</td>\n",
       "      <td>6.0</td>\n",
       "      <td>41</td>\n",
       "    </tr>\n",
       "    <tr>\n",
       "      <th>99997</th>\n",
       "      <td>6.5</td>\n",
       "      <td>6.0</td>\n",
       "      <td>2.0</td>\n",
       "      <td>6.5</td>\n",
       "      <td>38</td>\n",
       "    </tr>\n",
       "    <tr>\n",
       "      <th>99998</th>\n",
       "      <td>6.5</td>\n",
       "      <td>5.5</td>\n",
       "      <td>2.0</td>\n",
       "      <td>5.5</td>\n",
       "      <td>44</td>\n",
       "    </tr>\n",
       "  </tbody>\n",
       "</table>\n",
       "<p>99999 rows × 5 columns</p>\n",
       "</div>"
      ],
      "text/plain": [
       "       MAS_S  MAS_O  MAS_D  MAS_M  PD\n",
       "0        5.5    5.0    1.5    5.5  26\n",
       "1        8.0    5.0    2.0    7.5  12\n",
       "2        7.5    4.5    2.0    4.5  16\n",
       "3        6.5    5.5    2.5    6.0   5\n",
       "4        5.5    5.0    2.5    6.0   8\n",
       "...      ...    ...    ...    ...  ..\n",
       "99994    7.5    5.5    2.5    7.5  41\n",
       "99995    8.0    6.0    3.0    8.0  46\n",
       "99996    6.5    4.5    3.0    6.0  41\n",
       "99997    6.5    6.0    2.0    6.5  38\n",
       "99998    6.5    5.5    2.0    5.5  44\n",
       "\n",
       "[99999 rows x 5 columns]"
      ]
     },
     "execution_count": 12,
     "metadata": {},
     "output_type": "execute_result"
    }
   ],
   "source": [
    "df = pd.read_csv('Metacog_PD.csv')\n",
    "df"
   ]
  },
  {
   "cell_type": "markdown",
   "id": "0aa9baf8",
   "metadata": {},
   "source": [
    "## Data cleaning\n",
    "In this dataset missing data is recorded as 999, and will need to be removed. First, we replace all 999 values with NaN "
   ]
  },
  {
   "cell_type": "code",
   "execution_count": 13,
   "id": "9e830417",
   "metadata": {},
   "outputs": [],
   "source": [
    "df = df.replace(999, np.nan)\n",
    "\n",
    "df.dropna(inplace=True)\n",
    "\n",
    "df['METACOG'] = df['MAS_S'] + df['MAS_O'] + df['MAS_D'] + df['MAS_M']\n",
    "\n",
    "df.to_csv('Metacog_PD_cleaned.csv')"
   ]
  },
  {
   "cell_type": "code",
   "execution_count": 14,
   "id": "6e712cd3",
   "metadata": {},
   "outputs": [
    {
     "data": {
      "image/png": "[encoded data removed]",
      "text/plain": [
       "<Figure size 1152x648 with 1 Axes>"
      ]
     },
     "metadata": {
      "needs_background": "light"
     },
     "output_type": "display_data"
    }
   ],
   "source": [
    "#Elbow Plot\n",
    "#read in cleaned data\n",
    "data=pd.read_csv(\"Metacog_PD_cleaned.csv\")\n",
    "#get basic statistics on data    \n",
    "data.describe()\n",
    "#standardize the data \n",
    "scaler = StandardScaler()\n",
    "data_scaled = scaler.fit_transform(data)\n",
    "pd.DataFrame(data_scaled).describe()\n",
    "#Determining inertia values for a range of differnt clusters and \n",
    "##storing them into a single list (range is modifiable)\n",
    "\n",
    "SSE = []\n",
    "for cluster in range(1,10):\n",
    "    kmeans = KMeans(n_clusters = cluster, init = 'k-means++')\n",
    "    kmeans.fit(data_scaled)\n",
    "    SSE.append(kmeans.inertia_)\n",
    "\n",
    "elbow_frame = pd.DataFrame({'Cluster':range(1,10), 'SSE':SSE})\n",
    "plt.figure(figsize=(16,9))\n",
    "plt.plot(elbow_frame['Cluster'], elbow_frame['SSE'], marker='o')\n",
    "plt.xlabel('Number of clusters')\n",
    "plt.ylabel('Inertia')\n",
    "plt.title('Elbow Plot')\n",
    "plt.show()\n",
    "#Base your ideal cluster number (or range) off of this elbow plot"
   ]
  },
  {
   "cell_type": "code",
   "execution_count": 16,
   "id": "637c700d",
   "metadata": {},
   "outputs": [
    {
     "name": "stderr",
     "output_type": "stream",
     "text": [
      "<ipython-input-16-2e482786aa0a>:26: SettingWithCopyWarning: \n",
      "A value is trying to be set on a copy of a slice from a DataFrame.\n",
      "Try using .loc[row_indexer,col_indexer] = value instead\n",
      "\n",
      "See the caveats in the documentation: https://pandas.pydata.org/pandas-docs/stable/user_guide/indexing.html#returning-a-view-versus-a-copy\n",
      "  x[i] = ED\n",
      "<ipython-input-16-2e482786aa0a>:38: SettingWithCopyWarning: \n",
      "A value is trying to be set on a copy of a slice from a DataFrame.\n",
      "Try using .loc[row_indexer,col_indexer] = value instead\n",
      "\n",
      "See the caveats in the documentation: https://pandas.pydata.org/pandas-docs/stable/user_guide/indexing.html#returning-a-view-versus-a-copy\n",
      "  x['Cluster'] = c\n"
     ]
    },
    {
     "name": "stdout",
     "output_type": "stream",
     "text": [
      "2.0395758849758767\n",
      "-1.057390061428741\n",
      "-0.002905685554985382\n",
      "0.0\n"
     ]
    },
    {
     "data": {
      "image/png": "[encoded data removed]",
      "text/plain": [
       "<Figure size 1152x648 with 1 Axes>"
      ]
     },
     "metadata": {
      "needs_background": "light"
     },
     "output_type": "display_data"
    }
   ],
   "source": [
    "#K Means Clustering \n",
    "#Read in the CSV File\n",
    "data = pd.read_csv('Metacog_PD_cleaned.csv')\n",
    "#Condense your data set to only the desired columns\n",
    "#Replace 'LoanAmount' and 'ApplicantIncome' with desired column headers\n",
    "x = data[['PD','METACOG']]\n",
    "#k is your number of clusters, choose how many you think you need\n",
    "k = 3 \n",
    "#selects 'k' nubmer of points to act as centroids to clusters\n",
    "centroids = (x.sample(n=k))\n",
    "#This assigns all points to the closest centroid, recomputes centroids of new clusters, and repeats. \n",
    "#Change diff to a higher number for increased certainty at a trade-off of longer run time\n",
    "plt.figure(figsize=(16,9))#POTENTIALLY PROBLEMATIC\n",
    "diff = 100 \n",
    "j = 0 \n",
    "while diff != 0:\n",
    "    xd = x \n",
    "    i = 1 \n",
    "    for index1,row_c in centroids.iterrows():\n",
    "        ED =[] \n",
    "        for index2,row_d in xd.iterrows():\n",
    "            d1 = (row_c['METACOG']-row_d['METACOG'])**2\n",
    "            d2 = (row_c['PD']-row_d['PD'])**2\n",
    "            d = np.sqrt(d1+d2)\n",
    "            ED.append(d)\n",
    "        x[i] = ED\n",
    "        i = i+1 \n",
    "        \n",
    "    c = []\n",
    "    for index,row in x.iterrows():\n",
    "        min_dist = row[1]\n",
    "        pos = 1 \n",
    "        for i in range(k):\n",
    "            if row[i+1] < min_dist:\n",
    "                min_dist = row[i+1]\n",
    "                pos = i+1 \n",
    "        c.append(pos)\n",
    "    x['Cluster'] = c \n",
    "    centroids_new = x.groupby(['Cluster']).mean([['PD','METACOG']])\n",
    "    if j == 0:\n",
    "        diff = 100 \n",
    "        j = j+1 \n",
    "    else:\n",
    "        diff = (centroids_new['PD'] - centroids['PD']).sum() + (centroids_new['METACOG'] - centroids['METACOG']).sum() \n",
    "        print(diff.sum())\n",
    "    centroids = x.groupby(['Cluster']).mean()[['PD','METACOG']]\n",
    "clist = ['c','g','b','y','m']\n",
    "for k in range(k):\n",
    "    data=x[x['Cluster']==k+1]\n",
    "    plt.scatter(data['METACOG'],data['PD'],c=clist[k])\n",
    "plt.scatter(centroids['METACOG'],centroids['PD'],c='r')\n",
    "plt.xlabel('Metacognition Level')\n",
    "plt.ylabel('PD Traits')\n",
    "plt.show() "
   ]
  },
  {
   "cell_type": "code",
   "execution_count": null,
   "id": "3802cb93",
   "metadata": {},
   "outputs": [],
   "source": []
  }
 ],
 "metadata": {
  "kernelspec": {
   "display_name": "Python 3",
   "language": "python",
   "name": "python3"
  },
  "language_info": {
   "codemirror_mode": {
    "name": "ipython",
    "version": 3
   },
   "file_extension": ".py",
   "mimetype": "text/x-python",
   "name": "python",
   "nbconvert_exporter": "python",
   "pygments_lexer": "ipython3",
   "version": "3.8.8"
  }
 },
 "nbformat": 4,
 "nbformat_minor": 5
}
